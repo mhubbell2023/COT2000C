{
  "metadata": {
    "kernelspec": {
      "name": "python",
      "display_name": "Python (Pyodide)",
      "language": "python"
    },
    "language_info": {
      "codemirror_mode": {
        "name": "python",
        "version": 3
      },
      "file_extension": ".py",
      "mimetype": "text/x-python",
      "name": "python",
      "nbconvert_exporter": "python",
      "pygments_lexer": "ipython3",
      "version": "3.8"
    }
  },
  "nbformat_minor": 5,
  "nbformat": 4,
  "cells": [
    {
      "id": "207a3194-6f3e-45b8-8a7b-307e35c6026d",
      "cell_type": "markdown",
      "source": "# Lab 4 - Sets with Python\n### COT2000 - Spring 2025",
      "metadata": {}
    },
    {
      "id": "b4da7443-64e6-4938-aafe-27bc28e0dee6",
      "cell_type": "markdown",
      "source": "### Introduction to Sets in Python\n\nIn Python, a set is an unordered collection of unique elements. Sets are defined using curly braces `{}` and can be used to perform various operations like union, intersection, and difference. Sets are useful for membership testing and eliminating duplicate entries. Here is an example of how to create and display a set:\n",
      "metadata": {}
    },
    {
      "id": "977bcc1d-deb9-4c4d-acaa-76a2b20e43d6",
      "cell_type": "code",
      "source": "my_set = {333, 22, 11}   # This creates a set with elements 1, 2, 3, 4, 5\nprint(my_set)              # Print the set to see its elements\n\n# Practice: Try adding more elements to the set and print it again",
      "metadata": {
        "trusted": true
      },
      "outputs": [
        {
          "name": "stdout",
          "output_type": "stream",
          "text": "{1, 2, 3, 4, 5}\n"
        }
      ],
      "execution_count": 18
    },
    {
      "id": "c25350e6-b045-4b16-9382-fbe9398658ab",
      "cell_type": "code",
      "source": "# Adding more elements to my_set\n# Sets only store unique elements, no duplicates\nmy_set = {1, 2, 3, 4, 5, 5, 6, 7, 8}\nprint(my_set)",
      "metadata": {
        "trusted": true
      },
      "outputs": [
        {
          "name": "stdout",
          "output_type": "stream",
          "text": "{1, 2, 3, 4, 5, 6, 7, 8}\n"
        }
      ],
      "execution_count": 19
    },
    {
      "id": "ec88f84d-d5ce-49e5-bcc4-cd6d89030500",
      "cell_type": "code",
      "source": "# Creating a list\n# Lists are similar to sets but sets can store duplicates, and lists are ordered every element has a specific index\nmy_list = [1, 2, 2, 3, 4, 5]\nprint(my_list[2])\nprint(my_list[1]) ",
      "metadata": {
        "trusted": true
      },
      "outputs": [
        {
          "name": "stdout",
          "output_type": "stream",
          "text": "2\n2\n"
        }
      ],
      "execution_count": 20
    },
    {
      "id": "f9308a5d-46ee-470c-90fc-b37cab49d974",
      "cell_type": "markdown",
      "source": "### Membership Testing\n\nSets in Python are particularly useful for testing membership, i.e., checking whether an element is in a set. This operation is very efficient. Here is an example of how to test if specific elements are present in a set:\n",
      "metadata": {}
    },
    {
      "id": "ba4f7aba-4e1d-4438-a9eb-c368cd9fb2cb",
      "cell_type": "code",
      "source": "print(4 in my_set)  # Check if 4 is in the set (Should return True)\nprint(8 in my_set)  # Check if 8 is in the set (Should return False)\n\n# Practice: Try checking for other elements",
      "metadata": {
        "trusted": true
      },
      "outputs": [
        {
          "name": "stdout",
          "output_type": "stream",
          "text": "True\nTrue\n"
        }
      ],
      "execution_count": 21
    },
    {
      "id": "177a9d2d-fa57-415a-890b-c1a016f46ad4",
      "cell_type": "code",
      "source": "# Checking for other elements in my_set\nprint(9 in my_set)\nprint(3 in my_set)",
      "metadata": {
        "trusted": true
      },
      "outputs": [
        {
          "name": "stdout",
          "output_type": "stream",
          "text": "False\nTrue\n"
        }
      ],
      "execution_count": 22
    },
    {
      "id": "9bf2910a-6fe6-4cf5-ae4f-32a76107f597",
      "cell_type": "markdown",
      "source": "### Subset and Superset Operations\n\nA set `A` is a subset of set `B` if all elements of `A` are also elements of `B`. Similarly, `B` is a superset of `A`. Python provides methods to check these relationships. Here is how you can check if one set is a subset or a superset of another:\n",
      "metadata": {}
    },
    {
      "id": "102c23c0-5e09-4b2d-bf58-eaf7a105eaea",
      "cell_type": "code",
      "source": "subset = {1, 2}                      # Define a subset\nprint(subset.issubset(my_set))       # Check if subset is a subset of my_set (Should return True)\nprint(my_set.issuperset(subset))     # Check if my_set is a superset of subset (Should return True)\n\n# Practice: Try defining other subsets and check the relationships\n# Example: subset2 = {2, 3}\n# Then check subset2.issubset(my_set) and my_set.issuperset(subset2)",
      "metadata": {
        "trusted": true
      },
      "outputs": [
        {
          "name": "stdout",
          "output_type": "stream",
          "text": "True\nTrue\n"
        }
      ],
      "execution_count": 23
    },
    {
      "id": "e7c46270-1900-4def-9ef0-34322070ab34",
      "cell_type": "code",
      "source": "# Definfing subset2 and checking if it is a subset and superset of the original set\nsubset2 = {5, 6}\nprint(subset2.issubset(my_set))\nprint(my_set.issuperset(subset2))",
      "metadata": {
        "trusted": true
      },
      "outputs": [
        {
          "name": "stdout",
          "output_type": "stream",
          "text": "True\nTrue\n"
        }
      ],
      "execution_count": 24
    },
    {
      "id": "33dbb0a2-7186-4dcb-8898-ad6f2ddadfc4",
      "cell_type": "markdown",
      "source": "### Set Operations (Union, Intersection, Difference)\n\nPython sets support various mathematical operations such as union, intersection, and difference. The union of two sets is a set containing all unique elements from both sets. The intersection is a set containing only elements that are in both sets. The difference is a set containing elements that are in one set but not in the other. Here is how you can perform these operations:\n",
      "metadata": {}
    },
    {
      "id": "2449278b-300c-4b6b-8bd1-bbacde778c95",
      "cell_type": "code",
      "source": "another_set = {4, 5, 6, 7, 8}                        # Define another set\nunion_set = my_set.union(another_set)                # Perform union operation\nintersection_set = my_set.intersection(another_set)  # Perform intersection operation\ndifference_set = my_set.difference(another_set)      # Perform difference operation\n\nprint(\"Union:\", union_set)                           # Print the union of my_set and another_set\nprint(\"Intersection:\", intersection_set)             # Print the intersection of my_set and another_set\nprint(\"Difference:\", difference_set)                 # Print the difference of my_set and another_set\n\n# Practice: Try creating your own sets and perform these operations\n# Example: set1 = {1, 2, 3}\n# Example: set2 = {3, 4, 5}\n# Then find the union, intersection, and difference of set1 and set2\n",
      "metadata": {
        "trusted": true
      },
      "outputs": [
        {
          "name": "stdout",
          "output_type": "stream",
          "text": "Union: {1, 2, 3, 4, 5, 6, 7, 8}\nIntersection: {4, 5, 6, 7, 8}\nDifference: {1, 2, 3}\n"
        }
      ],
      "execution_count": 25
    },
    {
      "id": "f5f1f51f-528e-41bb-acfe-8ce3052c287a",
      "cell_type": "code",
      "source": "# Pratcice\nmy_new_set = {1, 2 , 3, 4, 5}\nmy_new_set2 = {4, 5, 6, 7, 8}\nnew_union_set = my_new_set.union(my_new_set2)\nnew_intersection_set = my_new_set.intersection(my_new_set2)\nnew_difference_set = my_new_set.difference(my_new_set2)\n\nprint(\"Union:\", new_union_set)\nprint(\"Intersection:\", new_intersection_set)\nprint(\"Difference:\", new_difference_set)",
      "metadata": {
        "trusted": true
      },
      "outputs": [
        {
          "name": "stdout",
          "output_type": "stream",
          "text": "Union: {1, 2, 3, 4, 5, 6, 7, 8}\nIntersection: {4, 5}\nDifference: {1, 2, 3}\n"
        }
      ],
      "execution_count": 26
    },
    {
      "id": "7d44dcb4-588a-4a21-acd1-98559f2da152",
      "cell_type": "markdown",
      "source": "### Ordered Pairs and Cartesian Products\n\nAn ordered pair is a pair of elements with the order of the elements being significant. The Cartesian product of two sets is the set of all possible ordered pairs where the first element is from the first set and the second element is from the second set. Here is an example:\n",
      "metadata": {}
    },
    {
      "id": "7ea7075f-4296-42ac-9977-62b0e273bae9",
      "cell_type": "code",
      "source": "A = {1, 2}  # Define the first set\nB = {3, 4}  # Define the second set\ncartesian_product = {(a, b) for a in A for b in B}  # Compute the Cartesian product\nprint(\"Cartesian Product: A x B =\", cartesian_product)  # Print the Cartesian product\n\n# Practice: Try defining different sets and compute their Cartesian product\n# Example: A = {1, 2, 3}\n# Example: B = {4, 5}\n# Then find the Cartesian product of A and B",
      "metadata": {
        "trusted": true
      },
      "outputs": [
        {
          "name": "stdout",
          "output_type": "stream",
          "text": "Cartesian Product: A x B = {(1, 4), (2, 4), (2, 3), (1, 3)}\n"
        }
      ],
      "execution_count": 27
    },
    {
      "id": "9d680f7f-0069-4bcf-8c02-6b2dfa0a4aba",
      "cell_type": "code",
      "source": "C = {5, 6, 7}\nD = {8, 9, 10}\nnew_cartesian_product = {(a,b) for a in C for b in D}\nprint(\"Cartesian Product: C x D =\", new_cartesian_product)",
      "metadata": {
        "trusted": true
      },
      "outputs": [
        {
          "name": "stdout",
          "output_type": "stream",
          "text": "Cartesian Product: C x D = {(6, 10), (7, 10), (5, 10), (5, 9), (6, 9), (6, 8), (7, 9), (7, 8), (5, 8)}\n"
        }
      ],
      "execution_count": 28
    },
    {
      "id": "eba3addd-7148-4a1c-ab18-14c7a8e1d3bf",
      "cell_type": "markdown",
      "source": "### Cartesian Plane\n\nThe Cartesian plane is a two-dimensional plane defined by an x-axis and a y-axis. Each point on the plane can be described by an ordered pair `(x, y)`. Here is an example of how to plot points from the Cartesian product on a Cartesian plane using matplotlib:\n",
      "metadata": {}
    },
    {
      "id": "d88345fd-afce-4591-83fb-5eed00cb569a",
      "cell_type": "code",
      "source": "import matplotlib.pyplot as plt\n\n# Convert the Cartesian product to a list of points\npoints = list(cartesian_product)\nx_coords = [x for x, y in points]  # Get x-coordinates\ny_coords = [y for x, y in points]  # Get y-coordinates\n\n# Plot the points on the Cartesian plane\nplt.scatter(x_coords, y_coords)  # Plot the points\nplt.title(\"Cartesian Plane\")  # Set the title of the plot\nplt.xlabel(\"X-axis\")  # Set the label for the x-axis\nplt.ylabel(\"Y-axis\")  # Set the label for the y-axis\nplt.grid(True)  # Enable grid\nplt.show()  # Display the plot\n\n# Practice: Try plotting the Cartesian product of different sets\n# Example: Use sets A and B from the previous example\n",
      "metadata": {
        "trusted": true
      },
      "outputs": [
        {
          "output_type": "display_data",
          "data": {
            "text/plain": "<Figure size 640x480 with 1 Axes>",
            "image/png": "[encoded data removed]"
          },
          "metadata": {}
        }
      ],
      "execution_count": 29
    },
    {
      "id": "c6bcb2cd-c2c1-4cb1-be42-dadfc39bbb59",
      "cell_type": "code",
      "source": "# Practice\n# Convert Cartesian product to list of points\npoints = list(new_cartesian_product)\nx_coords = [x for x, y in points]  # Get x-coordinates\ny_coords = [y for x, y in points]  # Get y-coordinates\n# Plot the points\nplt.scatter(x_coords, y_coords)  # Plot the points\nplt.title(\"Cartesian Plane\")  # Set the title of the plot\nplt.xlabel(\"X-axis\")  # Set the label for the x-axis\nplt.ylabel(\"Y-axis\")  # Set the label for the y-axis\nplt.grid(True)  # Enable grid\nplt.show()  # Display the plot\n\n",
      "metadata": {
        "trusted": true
      },
      "outputs": [
        {
          "output_type": "display_data",
          "data": {
            "text/plain": "<Figure size 640x480 with 1 Axes>",
            "image/png": "[encoded data removed]"
          },
          "metadata": {}
        }
      ],
      "execution_count": 30
    },
    {
      "id": "32121114-08d7-4060-b837-baff62b3732c",
      "cell_type": "markdown",
      "source": "### Relations\n\nA relation between two sets is a subset of the Cartesian product of those sets. It pairs elements from the first set with elements from the second set. Here is an example of a relation between two sets:\n",
      "metadata": {}
    },
    {
      "id": "4371e044-8ea1-43d4-948a-b9331b43df6b",
      "cell_type": "code",
      "source": "A = {1, 2}  # Define the first set\nB = {3, 4}  # Define the second set\n\n# Define a relation as a subset of the Cartesian product\nR = {(1, 3), (2, 4)}\nprint(\"Relation R:\", R)  # Print the relation\n\n# Practice: Try defining other relations and print them\n# Example: R2 = {(1, 4), (2, 3)}\n# Then print R2",
      "metadata": {
        "trusted": true
      },
      "outputs": [
        {
          "name": "stdout",
          "output_type": "stream",
          "text": "Relation R: {(2, 4), (1, 3)}\n"
        }
      ],
      "execution_count": 31
    },
    {
      "id": "b43c7d72-339b-4e5f-80e6-7895df0b18b5",
      "cell_type": "code",
      "source": "# Practice\n# Define the sets \nF = {5, 8}\ng = {6, 9}\n#Define a relation as a subset of the Cartesian product\nR1 = {(5, 6), (8, 9)}\nprint(\"Relation R1:\", R1)",
      "metadata": {
        "trusted": true
      },
      "outputs": [
        {
          "name": "stdout",
          "output_type": "stream",
          "text": "Relation R1: {(8, 9), (5, 6)}\n"
        }
      ],
      "execution_count": 32
    },
    {
      "id": "c812d4cc-06e0-4df8-8a76-98d71777b445",
      "cell_type": "markdown",
      "source": "### Functions (Mathematical Definition)\n\nIn mathematics, a function is a special type of relation where each element in the domain is associated with exactly one element in the codomain. Here is how you can define a function in Python and verify its properties:\n",
      "metadata": {}
    },
    {
      "id": "f0cfa456-3c55-47fb-b09a-fd36062bb4b6",
      "cell_type": "code",
      "source": "def is_function(relation, domain):\n    # Check if every element in the domain has exactly one pair in the relation\n    domain_elements = [pair[0] for pair in relation]\n    return all(domain_elements.count(e) == 1 for e in domain)\n\nA = {1, 2}  # Define the domain\nB = {3, 4}  # Define the codomain\n\n# Define a function as a set of ordered pairs\nf = {(1, 3), (2, 4)}\n\n# Check if f is a function\nprint(\"f is a function:\", is_function(f, A))\n\n# Practice: Try defining other functions and check their properties\n# Example: f2 = {(1, 3), (1, 4)}\n# Then check is_function(f2, A)\n",
      "metadata": {
        "trusted": true,
        "jupyter": {
          "source_hidden": true
        }
      },
      "outputs": [
        {
          "name": "stdout",
          "output_type": "stream",
          "text": "f is a function: True\n"
        }
      ],
      "execution_count": 33
    },
    {
      "id": "c45db932-9917-4580-876f-a812f74875be",
      "cell_type": "code",
      "source": "# Practice\ndef is_function(relation, domain):\n    # Check if every element in the domain has exactly one pair in the relation\n    domain_elements = [pair[0] for pair in relation]\n    return all(domain_elements.count(e) == 1 for e in domain)\n\nX = {1, 4}  # Define the domain\nY = {2, 9}  # Define the codomain\n\nf1 = {(1,9),(4,2)}\nprint(\"f is a function:\", is_function(f1, X))\n",
      "metadata": {
        "trusted": true
      },
      "outputs": [
        {
          "name": "stdout",
          "output_type": "stream",
          "text": "f is a function: True\n"
        }
      ],
      "execution_count": 34
    },
    {
      "id": "16f4deb0-d04a-47b7-b559-f823e8cbfc95",
      "cell_type": "code",
      "source": "",
      "metadata": {
        "trusted": true
      },
      "outputs": [],
      "execution_count": null
    },
    {
      "id": "e9cbd900-25cc-4ae6-a1b7-e80269cc0847",
      "cell_type": "code",
      "source": "",
      "metadata": {
        "trusted": true
      },
      "outputs": [],
      "execution_count": null
    },
    {
      "id": "0a2eabc4-8dc2-445c-9b6d-edbbdbda3b41",
      "cell_type": "code",
      "source": "",
      "metadata": {
        "trusted": true
      },
      "outputs": [],
      "execution_count": null
    },
    {
      "id": "a5042221-d332-4173-8c3d-b8c1477ff04b",
      "cell_type": "code",
      "source": "",
      "metadata": {
        "trusted": true
      },
      "outputs": [],
      "execution_count": null
    },
    {
      "id": "eb1fa541-d65a-4332-98fc-392618d0243c",
      "cell_type": "code",
      "source": "",
      "metadata": {
        "trusted": true
      },
      "outputs": [],
      "execution_count": null
    },
    {
      "id": "e9f6ea72-70eb-4764-99c0-7c3b1542c678",
      "cell_type": "code",
      "source": "",
      "metadata": {
        "trusted": true
      },
      "outputs": [],
      "execution_count": null
    }
  ]
}
